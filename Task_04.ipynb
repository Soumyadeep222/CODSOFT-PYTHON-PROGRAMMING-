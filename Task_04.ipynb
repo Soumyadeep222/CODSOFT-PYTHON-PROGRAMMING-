{
 "cells": [
  {
   "cell_type": "code",
   "execution_count": 2,
   "id": "0cb2b590",
   "metadata": {},
   "outputs": [
    {
     "name": "stdout",
     "output_type": "stream",
     "text": [
      "Enter rock, paper, or scissors: rock\n",
      "You chose: rock\n",
      "Computer chose: rock\n",
      "It's a tie!\n",
      "Your score: 0\n",
      "Computer's score: 0\n",
      "Do you want to play again? (yes/no): yes\n",
      "Enter rock, paper, or scissors: paper\n",
      "You chose: paper\n",
      "Computer chose: scissors\n",
      "Computer wins!\n",
      "Your score: 0\n",
      "Computer's score: 1\n",
      "Do you want to play again? (yes/no): yes\n",
      "Enter rock, paper, or scissors: scissors\n",
      "You chose: scissors\n",
      "Computer chose: rock\n",
      "Computer wins!\n",
      "Your score: 0\n",
      "Computer's score: 2\n",
      "Do you want to play again? (yes/no): no\n",
      "Thanks for playing! Goodbye!\n"
     ]
    }
   ],
   "source": [
    "import random\n",
    "\n",
    "def get_user_choice():\n",
    "    while True:\n",
    "        user_choice = input(\"Enter rock, paper, or scissors: \").lower()\n",
    "        if user_choice in [\"rock\", \"paper\", \"scissors\"]:\n",
    "            return user_choice\n",
    "        else:\n",
    "            print(\"Invalid choice. Please enter rock, paper, or scissors.\")\n",
    "\n",
    "def get_computer_choice():\n",
    "    return random.choice([\"rock\", \"paper\", \"scissors\"])\n",
    "\n",
    "def determine_winner(user_choice, computer_choice):\n",
    "    if user_choice == computer_choice:\n",
    "        return \"It's a tie!\"\n",
    "    elif (user_choice == \"rock\" and computer_choice == \"scissors\") or \\\n",
    "         (user_choice == \"scissors\" and computer_choice == \"paper\") or \\\n",
    "         (user_choice == \"paper\" and computer_choice == \"rock\"):\n",
    "        return \"You win!\"\n",
    "    else:\n",
    "        return \"Computer wins!\"\n",
    "\n",
    "def play_game():\n",
    "    user_score = 0\n",
    "    computer_score = 0\n",
    "    \n",
    "    while True:\n",
    "        user_choice = get_user_choice()\n",
    "        computer_choice = get_computer_choice()\n",
    "        \n",
    "        print(f\"You chose: {user_choice}\")\n",
    "        print(f\"Computer chose: {computer_choice}\")\n",
    "        \n",
    "        result = determine_winner(user_choice, computer_choice)\n",
    "        print(result)\n",
    "        \n",
    "        if result == \"You win!\":\n",
    "            user_score += 1\n",
    "        elif result == \"Computer wins!\":\n",
    "            computer_score += 1\n",
    "        \n",
    "        print(f\"Your score: {user_score}\")\n",
    "        print(f\"Computer's score: {computer_score}\")\n",
    "        \n",
    "        play_again = input(\"Do you want to play again? (yes/no): \").lower()\n",
    "        if play_again != \"yes\":\n",
    "            print(\"Thanks for playing! Goodbye!\")\n",
    "            break\n",
    "\n",
    "play_game()\n"
   ]
  },
  {
   "cell_type": "code",
   "execution_count": null,
   "id": "7160f444",
   "metadata": {},
   "outputs": [],
   "source": []
  }
 ],
 "metadata": {
  "kernelspec": {
   "display_name": "Python 3 (ipykernel)",
   "language": "python",
   "name": "python3"
  },
  "language_info": {
   "codemirror_mode": {
    "name": "ipython",
    "version": 3
   },
   "file_extension": ".py",
   "mimetype": "text/x-python",
   "name": "python",
   "nbconvert_exporter": "python",
   "pygments_lexer": "ipython3",
   "version": "3.11.4"
  }
 },
 "nbformat": 4,
 "nbformat_minor": 5
}
