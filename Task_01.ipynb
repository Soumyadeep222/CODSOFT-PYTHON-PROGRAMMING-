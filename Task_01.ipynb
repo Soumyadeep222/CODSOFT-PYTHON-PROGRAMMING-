{
 "cells": [
  {
   "cell_type": "code",
   "execution_count": 3,
   "id": "5de7e67e",
   "metadata": {},
   "outputs": [],
   "source": [
    "import tkinter as tk\n",
    "from tkinter import messagebox\n",
    "\n",
    "def add_task():\n",
    "    task = entry_task.get()\n",
    "    if task:\n",
    "        listbox_tasks.insert(tk.END, task)\n",
    "        entry_task.delete(0, tk.END)\n",
    "\n",
    "def update_task():\n",
    "    selected_task_index = listbox_tasks.curselection()\n",
    "    if selected_task_index:\n",
    "        new_task = entry_task.get()\n",
    "        if new_task:\n",
    "            index = selected_task_index[0]\n",
    "            listbox_tasks.delete(index)\n",
    "            listbox_tasks.insert(index, new_task)\n",
    "            entry_task.delete(0, tk.END)\n",
    "        else:\n",
    "            messagebox.showwarning(\"Warning\", \"Please enter a task to update.\")\n",
    "\n",
    "def delete_task():\n",
    "    selected_task_index = listbox_tasks.curselection()\n",
    "    if selected_task_index:\n",
    "        index = selected_task_index[0]\n",
    "        listbox_tasks.delete(index)\n",
    "    else:\n",
    "        messagebox.showwarning(\"Warning\", \"Please select a task to delete.\")\n",
    "\n",
    "root = tk.Tk()\n",
    "root.title(\"To-Do List\")\n",
    "\n",
    "frame_tasks = tk.Frame(root)\n",
    "frame_tasks.pack(pady=10)\n",
    "\n",
    "listbox_tasks = tk.Listbox(frame_tasks, width=50)\n",
    "listbox_tasks.pack(side=tk.LEFT, fill=tk.BOTH)\n",
    "\n",
    "scrollbar_tasks = tk.Scrollbar(frame_tasks)\n",
    "scrollbar_tasks.pack(side=tk.RIGHT, fill=tk.BOTH)\n",
    "\n",
    "listbox_tasks.config(yscrollcommand=scrollbar_tasks.set)\n",
    "scrollbar_tasks.config(command=listbox_tasks.yview)\n",
    "\n",
    "entry_task = tk.Entry(root, width=50)\n",
    "entry_task.pack(pady=10)\n",
    "\n",
    "button_add_task = tk.Button(root, text=\"Add Task\", command=add_task)\n",
    "button_add_task.pack(side=tk.LEFT, padx=5)\n",
    "button_update_task = tk.Button(root, text=\"Update Task\", command=update_task)\n",
    "button_update_task.pack(side=tk.LEFT, padx=5)\n",
    "button_delete_task = tk.Button(root, text=\"Delete Task\", command=delete_task)\n",
    "button_delete_task.pack(side=tk.LEFT, padx=5)\n",
    "\n",
    "root.mainloop()"
   ]
  },
  {
   "cell_type": "code",
   "execution_count": null,
   "id": "1e47cf4f",
   "metadata": {},
   "outputs": [],
   "source": []
  },
  {
   "cell_type": "code",
   "execution_count": null,
   "id": "f5f8e348",
   "metadata": {},
   "outputs": [],
   "source": []
  }
 ],
 "metadata": {
  "kernelspec": {
   "display_name": "Python 3 (ipykernel)",
   "language": "python",
   "name": "python3"
  },
  "language_info": {
   "codemirror_mode": {
    "name": "ipython",
    "version": 3
   },
   "file_extension": ".py",
   "mimetype": "text/x-python",
   "name": "python",
   "nbconvert_exporter": "python",
   "pygments_lexer": "ipython3",
   "version": "3.11.4"
  }
 },
 "nbformat": 4,
 "nbformat_minor": 5
}
